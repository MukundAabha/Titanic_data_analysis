{
 "cells": [
  {
   "cell_type": "markdown",
   "metadata": {},
   "source": [
    "# Kaggle Titanic survival - learning curves"
   ]
  },
  {
   "cell_type": "code",
   "execution_count": 1,
   "metadata": {},
   "outputs": [],
   "source": [
    "import numpy as np\n",
    "import pandas as pd\n",
    "# Import machine learning methods\n",
    "from sklearn.linear_model import LogisticRegression\n",
    "from sklearn.model_selection import train_test_split\n",
    "from sklearn.preprocessing import StandardScaler"
   ]
  },
  {
   "cell_type": "code",
   "execution_count": 2,
   "metadata": {},
   "outputs": [],
   "source": [
    "data = pd.read_csv('C:/t_data/processed_data.csv')\n",
    "# Make all data 'float' type\n",
    "data = data.astype(float)"
   ]
  },
  {
   "cell_type": "code",
   "execution_count": 3,
   "metadata": {},
   "outputs": [],
   "source": [
    "# Drop Passengerid (axis=1 indicates we are removing a column rather than a row)\n",
    "# We drop passenger ID as it is not original data\n",
    "\n",
    "data.drop('PassengerId', inplace=True, axis=1)"
   ]
  },
  {
   "cell_type": "code",
   "execution_count": 4,
   "metadata": {},
   "outputs": [],
   "source": [
    "X = data.drop('Survived',axis=1) # X = all 'data' except the 'survived' column\n",
    "y = data['Survived'] # y = 'survived' column from 'data'"
   ]
  },
  {
   "cell_type": "markdown",
   "metadata": {},
   "source": [
    "## Standardise data"
   ]
  },
  {
   "cell_type": "code",
   "execution_count": 5,
   "metadata": {},
   "outputs": [],
   "source": [
    "def standardise_data(X_train, X_test):\n",
    "    \n",
    "    # Initialise a new scaling object for normalising input data\n",
    "    sc = StandardScaler() \n",
    "\n",
    "    # Set up the scaler just on the training set\n",
    "    sc.fit(X_train)\n",
    "\n",
    "    # Apply the scaler to the training and test sets\n",
    "    train_std=sc.transform(X_train)\n",
    "    test_std=sc.transform(X_test)\n",
    "    \n",
    "    return train_std, test_std"
   ]
  },
  {
   "cell_type": "markdown",
   "metadata": {},
   "source": [
    "## Calculate the maximum training set size we can use "
   ]
  },
  {
   "cell_type": "code",
   "execution_count": 6,
   "metadata": {},
   "outputs": [
    {
     "name": "stdout",
     "output_type": "stream",
     "text": [
      "Max training size: 668\n"
     ]
    }
   ],
   "source": [
    "test_fraction = 0.25 # Use 25% of data for testing\n",
    "data_rows = X.shape[0]\n",
    "max_training_size = int(data_rows * (1 - test_fraction))\n",
    "print('Max training size: {}'.format(max_training_size))"
   ]
  },
  {
   "cell_type": "markdown",
   "metadata": {},
   "source": [
    "## Loop through increasing training set sizes "
   ]
  },
  {
   "cell_type": "code",
   "execution_count": 7,
   "metadata": {},
   "outputs": [],
   "source": [
    "# Set up list to collect results\n",
    "results_training_size = []\n",
    "results_accuracy = []\n",
    "\n",
    "for train_size in range(10, max_training_size, 10):\n",
    "    replicate_accuracy = []\n",
    "    for replicate in range(10):\n",
    "        # Split data into training and test\n",
    "        X_train, X_test, y_train, y_test = train_test_split(\n",
    "            X, y, test_size = test_fraction)\n",
    "\n",
    "        # Reduce training set size (use np random choice for random index values)\n",
    "        selection_index = np.random.choice(\n",
    "            max_training_size, train_size, replace=False)\n",
    "        X_train = X_train.iloc[selection_index]\n",
    "        y_train = y_train.iloc[selection_index]\n",
    "\n",
    "        # Standardise\n",
    "        X_train_std, X_test_std = standardise_data(X_train, X_test)\n",
    "\n",
    "        # Fit model\n",
    "        model = LogisticRegression(solver='lbfgs')\n",
    "        model.fit(X_train_std,y_train)\n",
    "\n",
    "        # Predict test set\n",
    "        y_pred_test = model.predict(X_test_std)\n",
    "\n",
    "        # Get accuracy and record results\n",
    "        accuracy = np.mean(y_pred_test == y_test)\n",
    "        replicate_accuracy.append(accuracy)\n",
    "    \n",
    "    results_accuracy.append(np.mean(replicate_accuracy))\n",
    "    results_training_size.append(train_size)"
   ]
  },
  {
   "cell_type": "markdown",
   "metadata": {},
   "source": [
    "## Plot learning curve\n",
    "\n",
    "We will plot the learning curve, including a moving average (the mean of 5 points). Moving averages can help show trends when data is noisy."
   ]
  },
  {
   "cell_type": "code",
   "execution_count": 8,
   "metadata": {},
   "outputs": [
    {
     "data": {
      "image/png": "[encoded data removed]",
      "text/plain": [
       "<Figure size 432x288 with 1 Axes>"
      ]
     },
     "metadata": {
      "needs_background": "light"
     },
     "output_type": "display_data"
    }
   ],
   "source": [
    "import matplotlib.pyplot as plt\n",
    "%matplotlib inline\n",
    "\n",
    "# Calculate moving avergae (of last 5 points) with np.convolve\n",
    "moving_average = np.convolve(results_accuracy, np.ones((5,))/5, mode='valid')\n",
    "x_moving_average = results_training_size[2:-2] # Include offset to centre mean\n",
    "\n",
    "plt.scatter(results_training_size, results_accuracy, \n",
    "         label='Accuracy')\n",
    "\n",
    "plt.plot(x_moving_average, moving_average,\n",
    "        label='Moving average',\n",
    "        color='orange',\n",
    "        linewidth=3)\n",
    "\n",
    "plt.xlabel('Training set size')\n",
    "plt.ylabel('Test set accuracy')\n",
    "plt.legend()\n",
    "plt.grid(True)\n",
    "plt.show()"
   ]
  }
 ],
 "metadata": {
  "kernelspec": {
   "display_name": "Python 3",
   "language": "python",
   "name": "python3"
  },
  "language_info": {
   "codemirror_mode": {
    "name": "ipython",
    "version": 3
   },
   "file_extension": ".py",
   "mimetype": "text/x-python",
   "name": "python",
   "nbconvert_exporter": "python",
   "pygments_lexer": "ipython3",
   "version": "3.7.6"
  }
 },
 "nbformat": 4,
 "nbformat_minor": 4
}
